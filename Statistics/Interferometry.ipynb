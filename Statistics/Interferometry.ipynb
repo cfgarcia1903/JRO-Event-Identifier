{
 "cells": [
  {
   "cell_type": "code",
   "execution_count": 1,
   "id": "81da11f1-067a-470f-8e31-4a300daeae62",
   "metadata": {},
   "outputs": [],
   "source": [
    "import pickle\n",
    "import numpy as np\n",
    "import matplotlib.pyplot as plt\n",
    "from matplotlib.animation import FuncAnimation\n",
    "import matplotlib.dates as mdates\n",
    "import plotly.graph_objects as go\n",
    "from sklearn.linear_model import LinearRegression\n",
    "from sklearn.metrics import r2_score\n",
    "from itertools import product\n",
    "from time import sleep\n",
    "from tqdm import tqdm\n",
    "import chocopearl as ch\n",
    "import os\n",
    "from datetime import datetime, timedelta\n",
    "import seaborn as sns\n",
    "import re\n",
    "import unicodedata\n",
    "import hashlib\n",
    "\n",
    "def check_order(xs, ys):\n",
    "    xs = np.array(xs)\n",
    "    ys = np.array(ys)\n",
    "\n",
    "    dx = xs[-1] - xs[0]\n",
    "    dy = ys[-1] - ys[0]\n",
    "    \n",
    "    projections= (xs - xs[0]) * dx + (ys - ys[0]) * dy\n",
    "\n",
    "    return np.all(np.diff(projections) >= 0)\n",
    "\n",
    "def valid_filename(text):\n",
    "    text = text.replace(\" \", \"_\")\n",
    "    text = unicodedata.normalize('NFKD', text).encode('ascii', 'ignore').decode('ascii')\n",
    "    text = re.sub(r'[^a-zA-Z0-9_.-]', '', text)\n",
    "    if not text:\n",
    "        text = hashlib.sha256(text_original.encode('utf-8')).hexdigest()[:8]\n",
    "    return text+'.png' "
   ]
  },
  {
   "cell_type": "markdown",
   "id": "df65772b-9053-43ff-8506-05b5b0e8bbc9",
   "metadata": {},
   "source": [
    "### Load multiple pickles"
   ]
  },
  {
   "cell_type": "code",
   "execution_count": 3,
   "id": "b5442658-e616-4e2c-b49a-5b321c284b6d",
   "metadata": {},
   "outputs": [],
   "source": [
    "directory = '/home/pc-igp-173/Documentos/DATA/cosmic_rays/jun2023_oblique'\n",
    "file_paths=ch.list_files(directory)[1]"
   ]
  },
  {
   "cell_type": "code",
   "execution_count": 4,
   "id": "ee08139c-847f-40b7-96da-0a72c3799605",
   "metadata": {},
   "outputs": [
    {
     "name": "stdout",
     "output_type": "stream",
     "text": [
      "processing trails_jun2023_9_CR.pickle\n",
      "processing trails_jun2023_6_CR.pickle\n",
      "processing trails_jun2023_4_CR.pickle\n",
      "processing trails_jun2023_5_CR.pickle\n",
      "processing trails_jun2023_7_CR.pickle\n",
      "processing trails_jun2023_8_CR.pickle\n",
      "processing trails_jun2023_3_CR.pickle\n",
      "Total: 14724 Cosmic Rays\n"
     ]
    }
   ],
   "source": [
    "crs = []\n",
    "i=1\n",
    "for file_path in file_paths:\n",
    "    with open(file_path, 'rb') as f:\n",
    "        print(f'processing {os.path.basename(file_path)}')\n",
    "        not_end=True\n",
    "        while not_end:\n",
    "            try:\n",
    "                obj = pickle.load(f)\n",
    "                crs.append(obj)\n",
    "                #clear_output(wait=True)\n",
    "                #print(f\"CosmicRay: {i}\")\n",
    "                i+=1\n",
    "            except EOFError as e:\n",
    "                not_end=False\n",
    "print(f'Total: {i} Cosmic Rays')"
   ]
  },
  {
   "cell_type": "markdown",
   "id": "a8da721c-6ad4-4244-8d59-581320c60134",
   "metadata": {
    "jp-MarkdownHeadingCollapsed": true
   },
   "source": [
    "### Load single pickle"
   ]
  },
  {
   "cell_type": "raw",
   "id": "0cbc1453-c085-48a0-940d-b1bed7e16b5b",
   "metadata": {},
   "source": [
    "pickle_path =  '/home/pc-igp-173/Documentos/DATA/cosmic_rays/trails_jun2023_1_CR.pickle'\n",
    "\n",
    "crs = []\n",
    "with open( pickle_path, 'rb') as f:\n",
    "    i=0\n",
    "    while True:\n",
    "        try:\n",
    "            crs.append(pickle.load(f))\n",
    "            i+=1\n",
    "\n",
    "        except EOFError as e:\n",
    "            print(e)\n",
    "            break\n",
    "\n",
    "print(f\"Events: {i}\")"
   ]
  },
  {
   "cell_type": "markdown",
   "id": "e4b42c1b-c35f-4535-8c19-b7bb3b4fa704",
   "metadata": {},
   "source": [
    "## Explore a single event"
   ]
  },
  {
   "cell_type": "raw",
   "id": "f9d95ebc-f154-4c3e-8071-122939730dcd",
   "metadata": {},
   "source": [
    "cr=crs[1]"
   ]
  },
  {
   "cell_type": "raw",
   "id": "8e5b6499-63ec-47c9-a0b4-b44d3d9f1bc1",
   "metadata": {},
   "source": [
    "fig, ax = plt.subplots()\n",
    "cax = ax.imshow(cr['Norm_Matrix'], cmap='jet', vmin=0, vmax=1, aspect='auto')\n",
    "fig.colorbar(cax)\n",
    "plt.show(fig)"
   ]
  },
  {
   "cell_type": "raw",
   "id": "73b080aa-d763-4bf0-a0f5-58f24446d780",
   "metadata": {
    "scrolled": true
   },
   "source": [
    "voltages_ls=[]\n",
    "power=0\n",
    "Range_start_ID=cr['Range_start_ID']\n",
    "Range_end_ID=cr['Range_end_ID']\n",
    "for v in cr['Volt_profile']:\n",
    "    voltages_ch=v[Range_start_ID:Range_end_ID+1]\n",
    "    #power_ch=(voltages_ch*np.conj(voltages_ch)).real\n",
    "    #power+=power_ch\n",
    "    #print(v[Range_start_ID:Range_end_ID+1])\n",
    "    voltages_ls.append(voltages_ch)\n",
    "ranges=np.linspace(cr['Range_start'],cr['Range_end'],Range_end_ID-Range_start_ID+1)"
   ]
  },
  {
   "cell_type": "raw",
   "id": "cd146dc4-dc6a-43be-ad41-62d2e2c951fa",
   "metadata": {},
   "source": [
    "cross_correlations_01 = np.angle(voltages_ls[0]*np.conj(voltages_ls[1]))\n",
    "cross_correlations_02 = np.angle(voltages_ls[0]*np.conj(voltages_ls[2]))\n",
    "cross_correlations_12 = np.angle(voltages_ls[1]*np.conj(voltages_ls[2]))"
   ]
  },
  {
   "cell_type": "raw",
   "id": "f91d8712-618f-4b2e-ae25-368206fea71f",
   "metadata": {},
   "source": [
    "freq= 49.92  ## En MHz\n",
    "\n",
    "wavelength=299.792458/freq\n",
    "k=2*np.pi/wavelength\n",
    "\n",
    "d=34.65*wavelength/np.sqrt(2)\n",
    "\n",
    "dX_01,dY_01=-d,0\n",
    "dX_02,dY_02=-d,-d\n",
    "dX_12,dY_12=0,-d\n",
    "\n",
    "deltas01= np.linspace(0,2*np.pi,100)\n",
    "deltas02= np.linspace(0,2*np.pi,100) \n",
    "deltas12= np.linspace(0,2*np.pi,100)\n"
   ]
  },
  {
   "cell_type": "raw",
   "id": "4c60933a-0069-4f48-be34-fa8bdba87c9e",
   "metadata": {},
   "source": [
    "sizes = np.linspace(200,30,Range_end_ID-Range_start_ID+1)\n",
    "\n",
    "fig, ax = plt.subplots()\n",
    "\n",
    "for delta01,delta12 in tqdm(product(deltas01, deltas12)):\n",
    "    xs=[]\n",
    "    ys=[]\n",
    "    for sample_id in range(Range_end_ID-Range_start_ID+1):\n",
    "            \n",
    "        cross_correlation_01=cross_correlations_01[sample_id]\n",
    "        #cross_correlation_02=cross_correlations_02[sample_id]\n",
    "        cross_correlation_12=cross_correlations_12[sample_id]\n",
    "        h = ranges[0]\n",
    "        \n",
    "        nonh_vector = np.array([[cross_correlation_01-delta01], [cross_correlation_12-delta12]])/k\n",
    "        coef_mat= np.array([[dX_01,dY_01], [dX_12,dY_12]])\n",
    "        \n",
    "        theta_x,theta_y=np.linalg.inv(coef_mat) @ nonh_vector\n",
    "        theta_z=np.sqrt(1-theta_x**2-theta_y**2)\n",
    "        \n",
    "        x,y=h*theta_x/theta_z,h*theta_y/theta_z\n",
    "        xs.append(x)\n",
    "        ys.append(y)\n",
    "        \n",
    "    xs = np.asarray(xs).reshape(-1, 1)\n",
    "    ys = np.asarray(ys)\n",
    "    \n",
    "    model = LinearRegression().fit(xs, ys)\n",
    "    r2 = model.score(xs, ys)  \n",
    "    \n",
    "    if r2>0.95:\n",
    "        if check_order(xs, ys):\n",
    "            print(f'delta01 = {delta01} \\ndelta12 = {delta12}\\nr2 = {r2}')\n",
    "            x_line = np.linspace(np.min(xs), np.max(xs), 100).reshape(-1, 1)\n",
    "            y_line = model.predict(x_line)\n",
    "            plt.plot(x_line, y_line, color='black')\n",
    "            plt.scatter(xs.flatten(),ys,s=sizes)\n",
    "            plt.show()\n",
    "            sleep(0.5)\n",
    "            plt.pause(1)\n",
    "            break\n",
    "\n"
   ]
  },
  {
   "cell_type": "markdown",
   "id": "bce84d30-67f8-4636-896d-6f025162bd6d",
   "metadata": {},
   "source": [
    "## Explore the statistics of multiple events"
   ]
  },
  {
   "cell_type": "code",
   "execution_count": 6,
   "id": "b84bdd37-7a05-467b-8d23-6092aa488407",
   "metadata": {},
   "outputs": [],
   "source": [
    "timezone_shift= -5*3600 \n",
    "date= '10-12 Jun 2024'\n",
    "dir_plots= '/home/pc-igp-173/Documentos/Statistics/jun2024_stats'"
   ]
  },
  {
   "cell_type": "code",
   "execution_count": 24,
   "id": "b68eb0d0-5be4-4a4d-b0e9-100e770f66ba",
   "metadata": {
    "scrolled": true
   },
   "outputs": [
    {
     "name": "stderr",
     "output_type": "stream",
     "text": [
      "100%|███████████████████████████████████| 14723/14723 [00:10<00:00, 1380.82it/s]"
     ]
    },
    {
     "name": "stdout",
     "output_type": "stream",
     "text": [
      "1025 total directions\n"
     ]
    },
    {
     "name": "stderr",
     "output_type": "stream",
     "text": [
      "\n"
     ]
    }
   ],
   "source": [
    "times_ls=[]\n",
    "directions_ls=[]\n",
    "for cr in tqdm(crs):\n",
    "    freq= 49.92  ## En MHz\n",
    "    \n",
    "    wavelength=299.792458/freq\n",
    "    k=2*np.pi/wavelength\n",
    "    \n",
    "    d=34.65*wavelength/np.sqrt(2)\n",
    "    \n",
    "    dX_01,dY_01=-d,0\n",
    "    dX_02,dY_02=-d,-d\n",
    "    dX_12,dY_12=0,-d\n",
    "    \n",
    "    delta01= 0\n",
    "    delta02= 0 \n",
    "    delta12= 0\n",
    "    \n",
    "    voltages_ls=[]\n",
    "    power=0\n",
    "    Range_start_ID=cr['Range_start_ID']\n",
    "    Range_end_ID=cr['Range_end_ID']\n",
    "    for v,vm in zip(cr['Volt_profile'],cr['Volt_Matrices']):\n",
    "        #print(np.mean(v[15:-15])) \n",
    "        voltages_ch=v[Range_start_ID:Range_end_ID+1] #-np.mean(v[150:])\n",
    "        voltages_ls.append(voltages_ch)\n",
    "    ranges=np.linspace(cr['Range_start'],cr['Range_end'],Range_end_ID-Range_start_ID+1)\n",
    "    #print('')\n",
    "    cross_correlations_01 = np.angle(voltages_ls[0]*np.conj(voltages_ls[1]))\n",
    "    cross_correlations_02 = np.angle(voltages_ls[0]*np.conj(voltages_ls[2]))\n",
    "    cross_correlations_12 = np.angle(voltages_ls[1]*np.conj(voltages_ls[2]))\n",
    "    \n",
    "    sizes = np.linspace(200,30,Range_end_ID-Range_start_ID+1)\n",
    "    residuals=[]\n",
    "    xs=[]\n",
    "    ys=[]\n",
    "    for sample_id in range(Range_end_ID-Range_start_ID+1):\n",
    "            \n",
    "        cross_correlation_01=cross_correlations_01[sample_id]\n",
    "        cross_correlation_02=cross_correlations_02[sample_id]\n",
    "        cross_correlation_12=cross_correlations_12[sample_id]\n",
    "        h = ranges[0]\n",
    "        '''\n",
    "        nonh_vector = np.array([[cross_correlation_01-delta01], [cross_correlation_12-delta12]])/k\n",
    "        coef_mat= np.array([[dX_01,dY_01], [dX_12,dY_12]])\n",
    "        \n",
    "        theta_x,theta_y=np.linalg.inv(coef_mat) @ nonh_vector\n",
    "        '''\n",
    "        coef_mat = np.array([[dX_01, dY_01],\n",
    "                     [dX_12, dY_12],\n",
    "                     [dX_02, dY_02]])\n",
    "\n",
    "        rhs = np.array([[cross_correlation_01 - delta01],\n",
    "                [cross_correlation_12 - delta12],\n",
    "                [cross_correlation_02 - delta02]]) / k\n",
    "        least_sq=np.linalg.lstsq(coef_mat, rhs, rcond=None)\n",
    "        theta_x, theta_y = least_sq[0]\n",
    "\n",
    "        \n",
    "\n",
    "        residuo = (rhs - coef_mat @ np.asarray([theta_x,theta_y])) \n",
    "        residuo = np.abs(residuo-np.round(residuo/wavelength)*wavelength)\n",
    "        \n",
    "        residuals.append(np.max(residuo))\n",
    "\n",
    "        \n",
    "        theta_z=np.sqrt(1-theta_x**2-theta_y**2)\n",
    "        \n",
    "        x,y=h*theta_x/theta_z,h*theta_y/theta_z\n",
    "        xs.append(x)\n",
    "        ys.append(y)\n",
    "        \n",
    "    max_residual=np.nanmax(residuals)\n",
    "    if max_residual<=0.1:\n",
    "        xs = np.asarray(xs).reshape(-1, 1)\n",
    "        ys = np.asarray(ys)\n",
    "        \n",
    "        model = LinearRegression().fit(xs, ys)\n",
    "        r2 = model.score(xs, ys)  \n",
    "        xs = xs.flatten()\n",
    "        ys = ys.flatten()\n",
    "        if r2>0.8:\n",
    "            \n",
    "            if check_order(xs, ys):\n",
    "                #sizes=np.linspace(10,300,len(ys))\n",
    "                #print(np.all(np.diff(xs) >= 0) or np.all(np.diff(xs) <= 0))\n",
    "                #print(np.all(np.diff(ys) >= 0) or np.all(np.diff(ys) <= 0))\n",
    "                #plt.scatter(xs,ys,s=sizes)\n",
    "                #plt.show()\n",
    "                m = model.coef_[0]\n",
    "                theta_deg = np.degrees(np.arctan(m))\n",
    "                directions_ls.append(theta_deg)\n",
    "                times_ls.append(datetime.utcfromtimestamp(cr['timestamp']) + timedelta(seconds=timezone_shift))\n",
    "    \n",
    "        \n",
    "print(f'{len(directions_ls)} total directions')"
   ]
  },
  {
   "cell_type": "code",
   "execution_count": 25,
   "id": "2fbfb9e6-2fb0-40dc-8c47-6ae4075e524e",
   "metadata": {},
   "outputs": [
    {
     "data": {
      "image/png": "[encoded data removed]",
      "text/plain": [
       "<Figure size 640x480 with 1 Axes>"
      ]
     },
     "metadata": {},
     "output_type": "display_data"
    }
   ],
   "source": [
    "data = np.asarray(directions_ls).flatten()\n",
    "\n",
    "# Graficar histograma y capturar valores\n",
    "counts, bin_edges, _ = plt.hist(data, bins=30)\n",
    "plt.title(f\"Angle with respect to X+ Distribution | {date}\")\n",
    "plt.xlabel(\"Angle (°)\")\n",
    "plt.ylabel(\"Number of Events\")\n",
    "\n",
    "plt.grid(True)\n",
    "# Encontrar índice del bin con más elementos\n",
    "max_index = np.argmax(counts)\n",
    "\n",
    "# Get the limits and center of the most populated bin\n",
    "bin_start = bin_edges[max_index]\n",
    "bin_end = bin_edges[max_index + 1]\n",
    "bin_center = (bin_start + bin_end) / 2\n",
    "count = int(counts[max_index])\n",
    "\n",
    "# Add vertical line at the center of the most populated bin\n",
    "plt.axvline(\n",
    "    bin_center,\n",
    "    color='red',\n",
    "    linestyle='--',\n",
    "    label=f\"Peak: [{bin_start:.2f}°,{bin_end:.2f}°] \\nwith {count} events\"\n",
    ")\n",
    "plt.legend()\n",
    "fname=valid_filename(f\"Angle with respect to X+ Distribution | {date}\")\n",
    "fname=os.path.join(dir_plots,fname)\n",
    "plt.savefig(fname, bbox_inches='tight')\n",
    "plt.show()"
   ]
  },
  {
   "cell_type": "code",
   "execution_count": 16,
   "id": "9ce406b2-d31a-4252-a64c-355d5d46a858",
   "metadata": {},
   "outputs": [
    {
     "data": {
      "image/png": "[encoded data removed]",
      "text/plain": [
       "<Figure size 800x600 with 2 Axes>"
      ]
     },
     "metadata": {},
     "output_type": "display_data"
    }
   ],
   "source": [
    "times_fixed_date = [datetime(2000, 1, 1, t.hour, t.minute, t.second) for t in times_ls]\n",
    "\n",
    "# Convert datetime to float (number of days since 0001-01-01)\n",
    "times_float = mdates.date2num(times_fixed_date)\n",
    "\n",
    "# Create the plot\n",
    "plt.figure(figsize=(8, 6))\n",
    "plt.hist2d(times_float, np.asarray(directions_ls).flatten(), bins=60, cmap='viridis')\n",
    "\n",
    "# Format the x-axis to show time (HH:MM)\n",
    "ax = plt.gca()\n",
    "ax.xaxis.set_major_formatter(mdates.DateFormatter('%H:%M'))\n",
    "\n",
    "# Optional: Increase the number of x-axis ticks (e.g., every 30 minutes)\n",
    "ax.xaxis.set_major_locator(mdates.MinuteLocator(interval=150))\n",
    "\n",
    "plt.colorbar(label='Number of Events')\n",
    "plt.xlabel(\"Time\")\n",
    "plt.ylabel(\"Angle (°)\")\n",
    "plt.title(f\"Angle with respect to X+ vs Time of the Day | {date}\")\n",
    "plt.tight_layout()\n",
    "fname=valid_filename(f\"Angle with respect to X+ vs Time of the Day | {date}\" )\n",
    "fname=os.path.join(dir_plots,fname)\n",
    "plt.savefig(fname, bbox_inches='tight')\n",
    "plt.show()"
   ]
  },
  {
   "cell_type": "code",
   "execution_count": null,
   "id": "99ac276a-63eb-411c-be9d-650a1f683db1",
   "metadata": {},
   "outputs": [],
   "source": []
  }
 ],
 "metadata": {
  "kernelspec": {
   "display_name": "JRO_CNN",
   "language": "python",
   "name": "jro_cnn"
  },
  "language_info": {
   "codemirror_mode": {
    "name": "ipython",
    "version": 3
   },
   "file_extension": ".py",
   "mimetype": "text/x-python",
   "name": "python",
   "nbconvert_exporter": "python",
   "pygments_lexer": "ipython3",
   "version": "3.10.16"
  }
 },
 "nbformat": 4,
 "nbformat_minor": 5
}
